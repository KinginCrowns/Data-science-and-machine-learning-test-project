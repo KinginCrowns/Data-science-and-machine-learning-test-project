{
 "cells": [
  {
   "cell_type": "markdown",
   "metadata": {},
   "source": [
    "# INTRODUCTION"
   ]
  },
  {
   "cell_type": "markdown",
   "metadata": {},
   "source": [
    "# Gold project"
   ]
  },
  {
   "cell_type": "code",
   "execution_count": null,
   "metadata": {},
   "outputs": [],
   "source": [
    "import numpy as np\n",
    "import pandas as pd\n",
    "import matplotlib.pyplot as plt\n",
    "from datetime import date,datetime,timedelta\n",
    "from plotly import graph_objs as go\n",
    "%matplotlib inline"
   ]
  },
  {
   "cell_type": "code",
   "execution_count": null,
   "metadata": {},
   "outputs": [],
   "source": [
    "Daily = pd.read_csv('daily_gold_rate.csv')\n",
    "Annual = pd.read_csv('annual_gold_rate.csv')"
   ]
  },
  {
   "cell_type": "code",
   "execution_count": null,
   "metadata": {},
   "outputs": [],
   "source": [
    "Daily.info()"
   ]
  },
  {
   "cell_type": "code",
   "execution_count": null,
   "metadata": {},
   "outputs": [],
   "source": [
    "Daily.describe()"
   ]
  },
  {
   "cell_type": "code",
   "execution_count": null,
   "metadata": {},
   "outputs": [],
   "source": [
    "Daily.head"
   ]
  },
  {
   "cell_type": "code",
   "execution_count": null,
   "metadata": {},
   "outputs": [],
   "source": [
    "Daily.isnull()"
   ]
  },
  {
   "cell_type": "code",
   "execution_count": null,
   "metadata": {},
   "outputs": [],
   "source": [
    "Daily['CNY'].fillna(value= Daily['CNY'].mean(), inplace = True)"
   ]
  },
  {
   "cell_type": "code",
   "execution_count": null,
   "metadata": {},
   "outputs": [],
   "source": [
    "Daily['Date']= pd.to_datetime(Daily['Date'],format =\"%Y-%m-%d\")"
   ]
  },
  {
   "cell_type": "code",
   "execution_count": null,
   "metadata": {},
   "outputs": [],
   "source": [
    "Daily"
   ]
  },
  {
   "cell_type": "code",
   "execution_count": null,
   "metadata": {},
   "outputs": [],
   "source": [
    "def plot_graph(country):\n",
    "    six_step = dict(count=6,label=\"6M\",step=\"month\",stepmode=\"backward\")\n",
    "    ytd_dict = dict(count=1,label=\"YTD\",step=\"year\",stepmode=\"todate\")\n",
    "    year1_dict = dict(count=1,label=\"1Y\",step=\"year\",stepmode=\"backward\")\n",
    "    year5_dict = dict(count=5,label=\"5Y\",step=\"year\",stepmode=\"backward\")\n",
    "    all_dict = dict(label='MAX',step=\"all\")\n",
    "    fig = go.Figure()\n",
    "    fig.add_trace(go.Scatter(x=Daily['Date'], y=Daily[f'{country}'],mode='lines'))\n",
    "    fig.layout.update(title_text=f\"Price of gold throughout the years in {country}\")\n",
    "    fig.update_layout(xaxis=dict(rangeselector=dict(buttons=list([six_step,ytd_dict,year1_dict,year5_dict,all_dict])),rangeslider=dict(visible=True),type=\"date\"))\n",
    "    fig.update_layout(yaxis_title=f'Price in {country}')\n",
    "    fig.show()"
   ]
  },
  {
   "cell_type": "code",
   "execution_count": null,
   "metadata": {},
   "outputs": [],
   "source": [
    "currencies = ['USD','EUR','GBP','INR','AED','CNY']\n",
    "for i in currencies:\n",
    "    plot_graph(i)\n",
    "plt.savefig(\"Price of gold throughout the years.pdf\")\n",
    "plt.show()"
   ]
  },
  {
   "cell_type": "code",
   "execution_count": null,
   "metadata": {},
   "outputs": [],
   "source": [
    "Annual.info()"
   ]
  },
  {
   "cell_type": "code",
   "execution_count": null,
   "metadata": {},
   "outputs": [],
   "source": [
    "fcrisis = Annual[(Annual['Date']>=2006) & (Annual['Date']<=2010)]\n",
    "fcrisis['Date'] = pd.to_datetime(fcrisis['Date'], format=\"%Y\")\n",
    "fcrisis['Date'] = pd.DatetimeIndex(fcrisis['Date']).year"
   ]
  },
  {
   "cell_type": "code",
   "execution_count": null,
   "metadata": {},
   "outputs": [],
   "source": [
    "fcrisis.head()"
   ]
  },
  {
   "cell_type": "markdown",
   "metadata": {},
   "source": [
    " # GOLD RATES AROUND THE YEARS OF 2008'S GLOBAL ECONOMIC CRISIS"
   ]
  },
  {
   "cell_type": "code",
   "execution_count": null,
   "metadata": {},
   "outputs": [],
   "source": [
    "# CREATING PERCENTAGE CHANGE COLUMN\n",
    "for currency in currencies:\n",
    "    fcrisis[f'{currency}_pct_change'] = fcrisis[f'{currency}'].pct_change()\n",
    "    fcrisis[f'{currency}_pct_change'] = fcrisis[f'{currency}_pct_change'].transform(lambda x: x*100)\n",
    "    fcrisis[f'{currency}_pct_change'] = fcrisis[f'{currency}_pct_change'].fillna(0)\n"
   ]
  },
  {
   "cell_type": "code",
   "execution_count": null,
   "metadata": {},
   "outputs": [],
   "source": [
    "from plotly.subplots import make_subplots\n",
    "def crisis_viz(data,currency,crisis):\n",
    "    fig = make_subplots(rows=1, cols=2,subplot_titles=(f\"Price of gold in {currency}\",\"Percentage change in gold price\"))\n",
    "    fig.add_trace(go.Bar(x=data['Date'], y=data[f'{currency}'],width=0.6),row=1,col=1)\n",
    "    fig.add_trace(go.Bar(x=data['Date'],y=data[f'{currency}_pct_change']),row=1,col=2)\n",
    "    # Update xaxis properties\n",
    "    fig.update_xaxes(title_text=\"Years\")\n",
    "    # Update yaxis properties\n",
    "    fig.update_yaxes(title_text=f\"Price of gold in {currency}\", row=1, col=1)\n",
    "    fig.update_yaxes(title_text=\"Percentage change in rate of gold\", row=1, col=2)\n",
    "    # Update title and height\n",
    "    fig.update_layout(title_text=f'Price and Precentage change in {currency} during {crisis}',showlegend=False)\n",
    "    fig.show()\n",
    "\n",
    "for i in currencies:\n",
    "    crisis_viz(fcrisis,i,'Global economic crisis')\n",
    "    \n",
    "plt.tight_layout()"
   ]
  },
  {
   "cell_type": "markdown",
   "metadata": {},
   "source": [
    "# EFFECT OF COVID 19 ON GOLD RATES"
   ]
  },
  {
   "cell_type": "code",
   "execution_count": null,
   "metadata": {},
   "outputs": [],
   "source": [
    "pandemic = Annual[(Annual['Date']>=2018) & (Annual['Date']<=2021)]\n",
    "pandemic['Date'] = pd.to_datetime(pandemic['Date'], format=\"%Y\")\n",
    "pandemic['Date'] = pd.DatetimeIndex(pandemic['Date']).year\n",
    "\n",
    "# CREATING PERCENTAGE CHANGE COLUMN\n",
    "for currency in currencies:\n",
    "    pandemic[f'{currency}_pct_change'] = pandemic[f'{currency}'].pct_change()\n",
    "    pandemic[f'{currency}_pct_change'] = pandemic[f'{currency}_pct_change'].transform(lambda x: x*100)\n",
    "    pandemic[f'{currency}_pct_change'] = pandemic[f'{currency}_pct_change'].fillna(0)"
   ]
  },
  {
   "cell_type": "code",
   "execution_count": null,
   "metadata": {},
   "outputs": [],
   "source": [
    "pandemic.info()"
   ]
  },
  {
   "cell_type": "code",
   "execution_count": null,
   "metadata": {},
   "outputs": [],
   "source": [
    "for i in currencies:\n",
    "    crisis_viz(pandemic,i,'COVID 19 Pandemic')"
   ]
  },
  {
   "cell_type": "markdown",
   "metadata": {},
   "source": [
    "# MONTHS THAT GOLD RATE HIT IT'S LOWEST IN THE YEAR(EXAMING THIS TREND FOR 2014 - 2021)"
   ]
  },
  {
   "cell_type": "code",
   "execution_count": null,
   "metadata": {},
   "outputs": [],
   "source": [
    "daily_after2014 = Daily[(Daily['Date'] >= \"2014-01-01\") & (Daily['Date'] <= \"2021-01-01\")]"
   ]
  },
  {
   "cell_type": "code",
   "execution_count": null,
   "metadata": {},
   "outputs": [],
   "source": [
    "import calendar\n",
    "def get_min(year,country):\n",
    "    data_year = daily_after2014[daily_after2014['Date'].dt.year == year ]\n",
    "    return data_year[data_year[f'{country}']==data_year[f'{country}'].min()]['Date'].iloc[0].month\n",
    "ar = [2014,2015,2016,2017,2018,2019,2020,2021]\n",
    "months=[]\n",
    "\n",
    "for k in currencies:\n",
    "    i=0\n",
    "    while i<len(ar):\n",
    "        m = get_min(ar[i],k)\n",
    "        name = calendar.month_name[m]\n",
    "        i+=1\n",
    "        months.append(name)\n",
    "chunk_size = len(ar)\n",
    "chunked_list = [months[i:i+chunk_size] for i in range(0, len(months), chunk_size)]"
   ]
  },
  {
   "cell_type": "code",
   "execution_count": null,
   "metadata": {},
   "outputs": [],
   "source": [
    "def min_viz(i,currency):\n",
    "    fig = go.Figure([go.Bar(x=ar,y=chunked_list[i],width=0.6,marker_color=\"rgb(255, 166, 0)\")])\n",
    "    fig.update_xaxes(title_text=\"Years\")\n",
    "    fig.update_yaxes(title_text=\"Months\")\n",
    "    fig.update_yaxes(categoryorder='array', categoryarray= [' ','January', 'February', 'March', 'April', 'May', 'June', 'July', 'August', 'September', 'October', 'November', 'December'])\n",
    "    fig.update_layout(title_text=f'In which month was the gold rate lowest in {currency}')\n",
    "    fig.show()"
   ]
  },
  {
   "cell_type": "code",
   "execution_count": null,
   "metadata": {},
   "outputs": [],
   "source": [
    "for i in range(0,len(currencies)):\n",
    "    min_viz(i,currencies[i])"
   ]
  },
  {
   "cell_type": "code",
   "execution_count": null,
   "metadata": {},
   "outputs": [],
   "source": []
  }
 ],
 "metadata": {
  "kernelspec": {
   "display_name": "Python 3 (ipykernel)",
   "language": "python",
   "name": "python3"
  },
  "language_info": {
   "codemirror_mode": {
    "name": "ipython",
    "version": 3
   },
   "file_extension": ".py",
   "mimetype": "text/x-python",
   "name": "python",
   "nbconvert_exporter": "python",
   "pygments_lexer": "ipython3",
   "version": "3.9.12"
  }
 },
 "nbformat": 4,
 "nbformat_minor": 4
}
