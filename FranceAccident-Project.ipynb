{
 "cells": [
  {
   "cell_type": "markdown",
   "metadata": {},
   "source": [
    "# France accident project"
   ]
  },
  {
   "cell_type": "code",
   "execution_count": null,
   "metadata": {},
   "outputs": [],
   "source": [
    "import pandas as pd\n",
    "import numpy as np\n",
    "import matplotlib.pyplot as plt\n",
    "import seaborn as sns\n",
    "import plotly.express as px\n",
    "from chart_studio import plotly\n",
    "from plotly.offline import init_notebook_mode,iplot\n",
    "import plotly.graph_objs as go\n",
    "from plotly import tools\n",
    "import string,os,_random\n",
    "from plotly.offline import init_notebook_mode, iplot\n",
    "import calendar\n",
    "%matplotlib inline\n",
    "import warnings\n",
    "warnings.filterwarnings('ignore')\n",
    "globalcolors = ['092a35', 'a2738c', '645c84', '427996', '658525', '404b69', '0f4471', '0f4471', '0f4471', '0f4471']\n",
    "init_notebook_mode(connected=True)\n",
    "punc = string.punctuation"
   ]
  },
  {
   "cell_type": "code",
   "execution_count": null,
   "metadata": {},
   "outputs": [],
   "source": [
    "df1 = pd.read_csv('characteristics.csv', low_memory = False, encoding = 'latin-1')\n",
    "df2 = pd.read_csv('vehicles.csv', low_memory = False)\n",
    "df3 = pd.read_csv('places.csv', low_memory = False)\n",
    "df4 = pd.read_csv('users.csv', low_memory = False)\n",
    "df5 = pd.read_csv('holidays.csv',low_memory = False)"
   ]
  },
  {
   "cell_type": "code",
   "execution_count": null,
   "metadata": {},
   "outputs": [],
   "source": [
    "from functools import reduce\n",
    "accidents = reduce(lambda left, right: pd.merge(left, right, on = \"Num_Acc\"), [df1, df2, df3, df4])"
   ]
  },
  {
   "cell_type": "code",
   "execution_count": null,
   "metadata": {},
   "outputs": [],
   "source": [
    "print(\"Rows: \", accidents.shape[0], \"Columns: \", accidents.shape[1])"
   ]
  },
  {
   "cell_type": "code",
   "execution_count": null,
   "metadata": {},
   "outputs": [],
   "source": [
    "accidents.head()"
   ]
  },
  {
   "cell_type": "code",
   "execution_count": null,
   "metadata": {},
   "outputs": [],
   "source": [
    "accidents.columns.values"
   ]
  },
  {
   "cell_type": "code",
   "execution_count": null,
   "metadata": {},
   "outputs": [],
   "source": [
    "def missing_data(data):\n",
    "    total = data.isnull().sum().sort_values(ascending = False)\n",
    "    percent = (data.isnull().sum()/data.isnull().count()*100).sort_values(ascending = False)\n",
    "    return pd.concat([total, percent], axis=1, keys=['Total NaN Values', 'Percentage of NaN Values'])\n",
    "\n",
    "missing_data(accidents)"
   ]
  },
  {
   "cell_type": "code",
   "execution_count": null,
   "metadata": {},
   "outputs": [],
   "source": [
    "accidents = accidents.drop(['v2', 'v1', 'long', 'lat', 'pr1', 'pr', 'gps'], axis = 1)\n",
    "missing_data(accidents)"
   ]
  },
  {
   "cell_type": "code",
   "execution_count": null,
   "metadata": {},
   "outputs": [],
   "source": [
    "# function to aggregate and return keys and values\n",
    "def create_stack_bar_data(col, df):\n",
    "    aggregated = df[col].value_counts().sort_index()\n",
    "    x_values = aggregated.index.tolist()\n",
    "    y_values = aggregated.values.tolist()\n",
    "    return x_values, y_values\n",
    "\n",
    "x1, y1 = create_stack_bar_data('an', accidents)\n",
    "\n",
    "for i in range(len(x1)):\n",
    "    x1[i] += 2000\n",
    "\n",
    "#x1 = x1[:-1]\n",
    "#y1 = y1[:-1]\n",
    "color1 = ['092a35']*9\n",
    "color2 = ['a2738c']*3\n",
    "color1.extend(color2)\n",
    "trace1 = go.Bar(x=x1, y=y1, opacity=0.75, name=\"year count\", marker = dict(color = 'red'))\n",
    "layout = dict(height=400, title='Number OF Accidents In France Per Year', legend=dict(orientation=\"h\"), \n",
    "              xaxis = dict(title = 'Year Of Accidents'), yaxis = dict(title = 'Number of Accidents'))\n",
    "fig = go.Figure(data=[trace1], layout=layout);\n",
    "iplot(fig);\n"
   ]
  },
  {
   "cell_type": "markdown",
   "metadata": {},
   "source": [
    "Which months have higher frequency of Accidents ?"
   ]
  },
  {
   "cell_type": "code",
   "execution_count": null,
   "metadata": {},
   "outputs": [],
   "source": [
    "x2, y2 = create_stack_bar_data('mois', accidents)\n",
    "#mapp = {}\n",
    "#for m,v in zip(x2, y2):\n",
    "#    mapp[m] = v\n",
    "xn = [calendar.month_name[int(x)] for x in (x2)]\n",
    "vn = y2\n",
    "\n",
    "trace1 = go.Bar(x=xn, y=vn, opacity=0.75, name=\"month\", marker=dict(color='blue'))\n",
    "layout = dict(height=400, title='Number Of Accidents Per Month In France', legend=dict(orientation=\"h\"));\n",
    "\n",
    "fig = go.Figure(data=[trace1], layout=layout)\n",
    "iplot(fig, filename='stacked-bar')"
   ]
  },
  {
   "cell_type": "markdown",
   "metadata": {},
   "source": [
    "Which Day-of-the-Month is most safe to drive ?"
   ]
  },
  {
   "cell_type": "code",
   "execution_count": null,
   "metadata": {},
   "outputs": [],
   "source": [
    "x1, y1 = create_stack_bar_data('jour', accidents)\n",
    "trace1 = go.Bar(x=x1, y=y1, opacity=0.75, name=\"monthday\", marker=dict(color='midnightblue'))\n",
    "layout = dict(height=400, title='Nummber of Accidents In France Per Day', legend=dict(orientation=\"h\") );\n",
    "\n",
    "fig = go.Figure(data=[trace1], layout=layout)\n",
    "iplot(fig, filename='stacked-bar')\n"
   ]
  },
  {
   "cell_type": "markdown",
   "metadata": {},
   "source": [
    "Time series of all accidents from 2005 to 2016"
   ]
  },
  {
   "cell_type": "code",
   "execution_count": null,
   "metadata": {},
   "outputs": [],
   "source": [
    "accidents.an += 2000\n",
    "dates = pd.to_datetime(accidents.an*10000+accidents.mois*100+accidents.jour,format='%Y%m%d')\n",
    "accidents.an -= 2000\n",
    "aggregated = dates.value_counts().sort_index()\n",
    "x_values = aggregated.index.tolist()\n",
    "y_values = aggregated.values.tolist()\n",
    "x1,y1 = x_values, y_values\n",
    "\n",
    "#x1, y1 = create_stack_bar_data('jour', accidents)\n",
    "trace1 = go.Scatter(x=x1, y=y1, opacity=0.75, name=\"monthday\", marker=dict(color='firebrick'), line = dict(\n",
    "        width = 0.6))\n",
    "layout = dict(height=400, title='Time Series of Accidents from 2005 to 2016', legend=dict(orientation=\"h\"));\n",
    "\n",
    "fig = go.Figure(data=[trace1], layout=layout)\n",
    "iplot(fig, filename='stacked-bar')\n"
   ]
  },
  {
   "cell_type": "markdown",
   "metadata": {},
   "source": [
    "Time series for all accidents in each year"
   ]
  },
  {
   "cell_type": "code",
   "execution_count": null,
   "metadata": {},
   "outputs": [],
   "source": [
    "accidents.an += 2000\n",
    "dates = pd.to_datetime(accidents.an*10000+accidents.mois*100+accidents.jour,format='%Y%m%d')\n",
    "accidents.an -= 2000\n",
    "traces = []\n",
    "for key, grp in dates.groupby(dates.dt.year):\n",
    "    #print(grp)\n",
    "    aggregated = grp.dt.month.value_counts().sort_index()\n",
    "    x_values = aggregated.index.tolist()\n",
    "    y_values = aggregated.values.tolist()\n",
    "    x1,y1 = x_values, y_values\n",
    "    x1 = [calendar.month_name[int(x)] for x in (x1)]\n",
    "\n",
    "\n",
    "    \n",
    "\n",
    "#x1, y1 = create_stack_bar_data('jour', accidents)\n",
    "    trace1 = go.Scatter(x=x1, y=y1, opacity=0.75, line = dict(\n",
    "        width = 1.5), name = str(key), mode = 'lines', \n",
    "                       text = str(key))\n",
    "    layout = dict(height=400, title='Time Series of Accidents for each Year', legend=dict(orientation=\"h\"));\n",
    "    traces.append(trace1)\n",
    "fig = go.Figure(data= traces, layout=layout)\n",
    "iplot(fig, filename='stacked-bar')"
   ]
  },
  {
   "cell_type": "markdown",
   "metadata": {},
   "source": [
    "2 Exploration based on roads where accidents occured\n",
    "\n",
    "Which types of roads are high risk?"
   ]
  },
  {
   "cell_type": "code",
   "execution_count": null,
   "metadata": {},
   "outputs": [],
   "source": [
    "x1, y1 = create_stack_bar_data('catr', accidents)\n",
    "x1 = ['Highway', 'National Road', 'Departmental Road', 'Communal Way', 'Off-Public Network', 'Parking Lot', 'Other']\n",
    "trace1 = go.Bar(x=x1, y=y1, opacity=0.75, name=\"Category\", marker=dict(color='Blue'))\n",
    "\n",
    "x2, y2 = create_stack_bar_data('circ', accidents)\n",
    "x2 = ['Unknown','One Way', 'Bidirectional', 'Separated Carriageways', 'Variable Assignment Channels']\n",
    "trace2 = go.Bar(x = x2, y = y2, opacity = 0.75, marker=dict(color='Red'), name = \"Traffic Flow\")\n",
    "\n",
    "x3, y3 = create_stack_bar_data('prof', accidents)\n",
    "x3 = ['Unknown', 'Dish','Slope', 'Hill-Top', 'Hill-Bottom']\n",
    "trace3 = go.Bar(x = x3, y = y3, opacity = 0.75, marker=dict(color='Magenta'), name = \"Road Gradient\")\n",
    "\n",
    "\n",
    "fig = tools.make_subplots(rows = 3, cols = 1)\n",
    "\n",
    "fig.append_trace(trace1, 1, 1)\n",
    "fig.append_trace(trace2, 2, 1)\n",
    "fig.append_trace(trace3, 3, 1)\n",
    "layout = dict(height=900, title='Accidents Based On Type Of Road');\n",
    "fig.layout.update(layout)\n",
    "#fig['layout'].update(height=800,title='Accidents by Type of Road')\n",
    "iplot(fig, filename='stacked-bar')\n",
    "\n",
    "#This is the format of your plot grid:\n",
    "#[ (1,1) x1,y1 ]\n",
    "#[ (2,1) x2,y2 ]\n",
    "#[ (3,1) x3,y3 ]"
   ]
  },
  {
   "cell_type": "markdown",
   "metadata": {},
   "source": [
    "Which type of road gradient is high risk?"
   ]
  },
  {
   "cell_type": "code",
   "execution_count": null,
   "metadata": {},
   "outputs": [],
   "source": [
    "keydict = {1:'Highway', 2:'National Road', 3:'Departmental Road', 4:'Communal Way', 5:'Off-Public Network', 6:'Parking Lot', 9:'Other'}\n",
    "roadtype = accidents[['catr','circ']]\n",
    "traces = []\n",
    "for key, grp in roadtype.groupby(roadtype.catr):\n",
    "    aggregated = grp.circ.value_counts().sort_index()\n",
    "    x_values = aggregated.index.tolist()\n",
    "    y_values = aggregated.values.tolist()\n",
    "    x1,y1 = x_values, y_values\n",
    "    x1 = ['Unknown','One Way', 'Bidirectional', 'Separated Carriageways', 'Variable Assignment Channels']\n",
    "#x1, y1 = create_stack_bar_data('jour', accidents)\n",
    "    trace1 = go.Bar(x=x1, y=y1, opacity=0.75, name = keydict[key])\n",
    "    layout = dict(height=400, title='Distribution of Accidents based on Type of Road', legend=dict(orientation=\"h\"));\n",
    "    traces.append(trace1)\n",
    "fig = go.Figure(data= traces, layout=layout)\n",
    "iplot(fig)"
   ]
  },
  {
   "cell_type": "markdown",
   "metadata": {},
   "source": [
    "3 Exploration based on people involved in the accidents\n",
    "\n",
    "What was the condition of the people after the accident?"
   ]
  },
  {
   "cell_type": "code",
   "execution_count": null,
   "metadata": {},
   "outputs": [],
   "source": [
    "keydict = {1:'Driver', 2:'Passenger', 3:'Pedestrian', 4:'Pedestrian in Motion'}\n",
    "people = accidents[['catu','grav']]\n",
    "traces = []\n",
    "for key, grp in people.groupby(people.catu):\n",
    "    aggregated = grp.grav.value_counts().sort_index()\n",
    "    x_values = aggregated.index.tolist()\n",
    "    y_values = aggregated.values.tolist()\n",
    "    x1,y1 = x_values, y_values\n",
    "    x1 = ['Unscathed','Killed', 'Hospitalized', 'Light Injury']\n",
    "#x1, y1 = create_stack_bar_data('jour', accidents)\n",
    "    trace1 = go.Bar(x=x1, y=y1, opacity=0.75, name = keydict[key])\n",
    "    layout = dict(height=400, title='Condition of People involved in the Accidents', legend=dict(orientation=\"h\"));\n",
    "    traces.append(trace1)\n",
    "fig = go.Figure(data= traces, layout=layout)\n",
    "iplot(fig)"
   ]
  },
  {
   "cell_type": "markdown",
   "metadata": {},
   "source": [
    "What was the age distribution of the people involved?"
   ]
  },
  {
   "cell_type": "code",
   "execution_count": null,
   "metadata": {},
   "outputs": [],
   "source": [
    "ageusers = accidents[['an_nais', 'catu']]\n",
    "ageusers['age'] = 2016 - ageusers.an_nais\n",
    "\n",
    "keydict = {1:'Driver', 2:'Passenger', 3:'Pedestrian', 4:'Pedestrian in Motion'}\n",
    "traces = []\n",
    "for key, grp in ageusers.groupby(ageusers.catu):\n",
    "    if(key < 4):\n",
    "    #aggregated = grp.an_nais.value_counts().sort_index()\n",
    "        x1 = grp.age.values\n",
    "    #y_values = aggregated.values.tolist()\n",
    "    #x1,y1 = x_values, y_values\n",
    "    #x1 = ['Driver','Passenger', 'Pedestrian', 'Pedestrian in Motion']\n",
    "#x1, y1 = create_stack_bar_data('jour', accidents)\n",
    "        trace1 = go.Histogram(x=x1, opacity=0.5, name = keydict[key])\n",
    "        layout = dict(height=400, title='Age Distribution Of People Involved In The Accident', \n",
    "                  legend=dict(orientation=\"h\"), barmode = 'overlay');\n",
    "        traces.append(trace1)\n",
    "fig = go.Figure(data= traces, layout=layout)\n",
    "iplot(fig)"
   ]
  },
  {
   "cell_type": "markdown",
   "metadata": {},
   "source": [
    "What was the sex distribution of the people involved?"
   ]
  },
  {
   "cell_type": "code",
   "execution_count": null,
   "metadata": {},
   "outputs": [],
   "source": [
    "keydict = {1:'Male', 2:'Female'}\n",
    "people = accidents[['catu','sexe']]\n",
    "traces = []\n",
    "for key, grp in people.groupby(people.sexe):\n",
    "    aggregated = grp.catu.value_counts().sort_index()\n",
    "    x_values = aggregated.index.tolist()\n",
    "    y_values = aggregated.values.tolist()\n",
    "    x1,y1 = x_values, y_values\n",
    "    x1 = ['Driver','Passenger', 'Pedestrian', 'Pedestrian in Motion']\n",
    "#x1, y1 = create_stack_bar_data('jour', accidents)\n",
    "    trace1 = go.Bar(x=x1, y=y1, opacity=0.75, name = keydict[key])\n",
    "    layout = dict(height=400, title='Distribution of people involved in accidents by Sex', legend=dict(orientation=\"h\"));\n",
    "    traces.append(trace1)\n",
    "fig = go.Figure(data= traces, layout=layout)\n",
    "iplot(fig)"
   ]
  },
  {
   "cell_type": "markdown",
   "metadata": {},
   "source": [
    "4 Exploration based on use of safety equipment\n",
    "\n",
    "What was the distribution of Safety Equipment used?"
   ]
  },
  {
   "cell_type": "code",
   "execution_count": null,
   "metadata": {},
   "outputs": [],
   "source": [
    "safety = accidents[['secu', 'grav']]\n",
    "safety = safety.dropna()\n",
    "safety['equipment'] = (safety.secu/10).astype(int)\n",
    "safety.secu = (safety.secu - safety.equipment*10).astype(int)\n",
    "\n",
    "\n",
    "x1, y1 = create_stack_bar_data('equipment', safety)\n",
    "x1 = ['Belt', 'Helmet', \"Children's Device\", 'Reflective Equipment', \"Other\"]\n",
    "trace1 = go.Bar(x=x1, y=y1, opacity=0.75)\n",
    "layout = dict(height=400, title='Distribution of Safety Equipment', legend=dict(orientation=\"h\") );\n",
    "\n",
    "fig = go.Figure(data=[trace1], layout=layout)\n",
    "iplot(fig, filename='stacked-bar')"
   ]
  },
  {
   "cell_type": "markdown",
   "metadata": {},
   "source": [
    "Did use of Safety Eqipment impact condition of people after the accident?"
   ]
  },
  {
   "cell_type": "code",
   "execution_count": null,
   "metadata": {},
   "outputs": [],
   "source": [
    "keydict = {1:'Unscathed', 2:'Killed', 3: 'Hospitalized', 4: 'Light Injury'}\n",
    "traces = []\n",
    "for key, grp in safety.groupby(safety.grav):\n",
    "    if (key != 0):\n",
    "        count = safety.secu.count()\n",
    "        #print(count)\n",
    "        aggregated = (grp.secu.value_counts()).sort_index()\n",
    "        x_values = aggregated.index.tolist()\n",
    "        y_values = (aggregated.values/safety.secu.value_counts().sort_index().values*100).tolist()\n",
    "        x1,y1 = x_values[1:], y_values[1:]\n",
    "        x1 = ['Equipment Present','Equipment Absent', 'Not Determined']\n",
    "\n",
    "\n",
    "    \n",
    "\n",
    "#x1, y1 = create_stack_bar_data('jour', accidents)\n",
    "        trace1 = go.Bar(x=x1, y=y1, opacity=0.75, name = keydict[key])\n",
    "        layout = dict(height=530, title='Relationship between Safety Equipment and Severity of Accident', \n",
    "                      legend=dict(orientation=\"h\"), barmode = 'stack', yaxis = dict(title = 'Percentage'),\n",
    "                      xaxis = dict(title = 'Safety Equipment'));\n",
    "        traces.append(trace1)\n",
    "fig = go.Figure(data= traces, layout=layout)\n",
    "iplot(fig)\n"
   ]
  },
  {
   "cell_type": "code",
   "execution_count": null,
   "metadata": {},
   "outputs": [],
   "source": [
    "ff = pd.read_csv('users.csv')"
   ]
  },
  {
   "cell_type": "code",
   "execution_count": null,
   "metadata": {},
   "outputs": [],
   "source": [
    "ff.head()"
   ]
  },
  {
   "cell_type": "code",
   "execution_count": null,
   "metadata": {},
   "outputs": [],
   "source": []
  }
 ],
 "metadata": {
  "interpreter": {
   "hash": "a61b424547b042fb19541936492d10261d3f5a6f539f945f20018446eec3a6ab"
  },
  "kernelspec": {
   "display_name": "Python 3 (ipykernel)",
   "language": "python",
   "name": "python3"
  },
  "language_info": {
   "codemirror_mode": {
    "name": "ipython",
    "version": 3
   },
   "file_extension": ".py",
   "mimetype": "text/x-python",
   "name": "python",
   "nbconvert_exporter": "python",
   "pygments_lexer": "ipython3",
   "version": "3.9.12"
  }
 },
 "nbformat": 4,
 "nbformat_minor": 2
}
